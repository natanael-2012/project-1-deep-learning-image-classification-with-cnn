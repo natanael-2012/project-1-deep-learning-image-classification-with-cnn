{
 "cells": [
  {
   "cell_type": "code",
   "execution_count": null,
   "metadata": {},
   "outputs": [],
   "source": [
    "import numpy as np\n",
    "import os\n",
    "from sklearn.model_selection import train_test_split\n",
    "from keras.preprocessing.image import load_img, img_to_array\n",
    "from keras.utils import to_categorical\n",
    "from keras.preprocessing.image import ImageDataGenerator\n",
    "from keras.models import Sequential\n",
    "from keras.layers import Dense, Dropout, Conv2D, MaxPool2D, Flatten, Input\n",
    "from tensorflow.keras.callbacks import EarlyStopping"
   ]
  },
  {
   "cell_type": "code",
   "execution_count": null,
   "metadata": {},
   "outputs": [],
   "source": [
    "import kagglehub\n",
    "try:\n",
    "  ran == True\n",
    "\n",
    "except:\n",
    "  path = kagglehub.dataset_download(\"alessiocorrado99/animals10\")\n",
    "\n",
    "  print(\"Path to dataset files:\", path)\n",
    "  \n",
    "  ran = True\n",
    "else:\n",
    "  print(path)"
   ]
  },
  {
   "cell_type": "code",
   "execution_count": null,
   "metadata": {},
   "outputs": [],
   "source": [
    "# add to path /raw-img/ with os module\n",
    "root_dir = os.path.join(path, 'raw-img')\n",
    "\n",
    "# Path to the root directory where your images are\n",
    "# root_dir = '/root/raw-img/'\n",
    "\n",
    "# Define image dimensions (resize all images to this size)\n",
    "img_height, img_width = 128, 128 #32, 32"
   ]
  },
  {
   "cell_type": "code",
   "execution_count": null,
   "metadata": {},
   "outputs": [],
   "source": [
    "# Function to load and preprocess the images from the directory\n",
    "def load_images_from_directory(directory):\n",
    "    images = []\n",
    "    labels = []\n",
    "    label_map = {folder: i for i, folder in enumerate(os.listdir(directory)) if os.path.isdir(os.path.join(directory, folder))}  # Map animal class to integer labels\n",
    "    for folder in os.listdir(directory):\n",
    "        folder_path = os.path.join(directory, folder)\n",
    "        if os.path.isdir(folder_path):\n",
    "            for img_name in os.listdir(folder_path):\n",
    "                img_path = os.path.join(folder_path, img_name)\n",
    "                try:\n",
    "                    img = load_img(img_path, target_size=(img_height, img_width))  # Resize to the target size\n",
    "                    img = img_to_array(img)  # Convert to numpy array\n",
    "                    images.append(img)\n",
    "                    labels.append(label_map[folder])  # Use the class label for the folder\n",
    "                except Exception as e:\n",
    "                    print(f\"Error loading image {img_path}: {e}\")\n",
    "    return np.array(images), np.array(labels)"
   ]
  },
  {
   "cell_type": "code",
   "execution_count": null,
   "metadata": {},
   "outputs": [],
   "source": [
    "# Load and preprocess all images\n",
    "# X, y = load_images_from_directory(root_dir)\n",
    "\n",
    "# Normalize the images to [0, 1]\n",
    "# X = X.astype('float32') / 255\n",
    "\n",
    "# One-hot encode the labels\n",
    "# y = to_categorical(y, num_classes=10)\n",
    "\n",
    "# # Split the data into training and testing sets (80% train, 20% test)\n",
    "# X_train, X_test, y_train, y_test = train_test_split(X, y, test_size=0.2, random_state=42)\n",
    "\n",
    "# print(f\"Training data shape: {X_train.shape}, Test data shape: {X_test.shape}\")"
   ]
  },
  {
   "cell_type": "code",
   "execution_count": null,
   "metadata": {},
   "outputs": [],
   "source": [
    "# Data Augmentation for the training set\n",
    "train_datagen = ImageDataGenerator(\n",
    "    rescale=1./255,            # Normalize images to [0, 1]\n",
    "    rotation_range=20,         # Random rotation\n",
    "    width_shift_range=0.2,     # Random width shift\n",
    "    height_shift_range=0.2,    # Random height shift\n",
    "    shear_range=0.2,           # Shear transformation\n",
    "    zoom_range=0.2,            # Zoom transformation\n",
    "    horizontal_flip=True,      # Random horizontal flip\n",
    "    fill_mode='nearest'        # Filling mode for newly created pixels\n",
    ")\n",
    "# No augmentation for the test set, only scaling\n",
    "test_datagen = ImageDataGenerator(rescale=1./255)"
   ]
  },
  {
   "cell_type": "code",
   "execution_count": null,
   "metadata": {},
   "outputs": [],
   "source": [
    "# Create a training data generator that loads images from the directory\n",
    "train_generator = train_datagen.flow_from_directory(\n",
    "    directory=root_dir,               # Root directory containing the images\n",
    "    target_size=(img_height, img_width),  # Resize images\n",
    "    batch_size=128,                     # Number of images to process per batch\n",
    "    class_mode='categorical',          # Use categorical labels\n",
    "    subset='training',                 # Automatically divide into training and validation\n",
    "    shuffle=True,\n",
    "    validation_split=0.2       # Define the validation split (20% for validation)\n",
    "\n",
    ")\n",
    "\n",
    "# Create a validation data generator\n",
    "test_generator = test_datagen.flow_from_directory(\n",
    "    directory=root_dir,               # Root directory containing the images\n",
    "    target_size=(img_height, img_width),  # Resize images\n",
    "    batch_size=128,                     # Number of images to process per batch\n",
    "    class_mode='categorical',          # Use categorical labels\n",
    "    subset='validation',               # Automatically divide into training and validation\n",
    "    shuffle=False,\n",
    "    validation_split=0.2       # Define the validation split (20% for validation)\n",
    "\n",
    ")"
   ]
  },
  {
   "cell_type": "code",
   "execution_count": null,
   "metadata": {},
   "outputs": [],
   "source": [
    "# # Fit the model using augmented data\n",
    "# train_generator = train_datagen.flow(X_train, y_train, batch_size=128)\n",
    "# test_generator = test_datagen.flow(X_test, y_test, batch_size=128)\n",
    "\n",
    "# Build the CNN model (same as before)\n",
    "model = Sequential()\n",
    "model.add(Input(shape=(img_height, img_width, 3)))\n",
    "model.add(Conv2D(50, kernel_size=(3, 3), activation='relu'))\n",
    "model.add(Conv2D(75, kernel_size=(3, 3), activation='relu'))\n",
    "model.add(MaxPool2D(pool_size=(2, 2)))\n",
    "model.add(Dropout(0.25))\n",
    "model.add(Conv2D(125, kernel_size=(3, 3), activation='relu'))\n",
    "model.add(MaxPool2D(pool_size=(2, 2)))\n",
    "model.add(Dropout(0.25))\n",
    "model.add(Flatten())\n",
    "model.add(Dense(500, activation='relu'))\n",
    "model.add(Dropout(0.4))\n",
    "model.add(Dense(250, activation='relu'))\n",
    "model.add(Dropout(0.3))\n",
    "model.add(Dense(10, activation='softmax'))\n",
    "\n",
    "model.compile(loss='categorical_crossentropy', optimizer='adam', metrics=['accuracy'])\n",
    "\n",
    "early_stopping = EarlyStopping(monitor='val_loss',  # Track validation loss (you can also use 'val_accuracy')\n",
    "                               patience=3,           # Number of epochs to wait for improvement\n",
    "                               restore_best_weights=True)  # Restore the best weights after stopping\n"
   ]
  },
  {
   "cell_type": "code",
   "execution_count": null,
   "metadata": {},
   "outputs": [],
   "source": [
    "# class weights for the model fit\n",
    "from sklearn.utils.class_weight import compute_class_weight\n",
    "\n",
    "class_weights = compute_class_weight(\n",
    "                'balanced', \n",
    "                np.unique(train_generator.classes), \n",
    "                train_generator.classes)\n",
    "\n",
    "class_weight_dict = dict(enumerate(class_weights))"
   ]
  },
  {
   "cell_type": "code",
   "execution_count": null,
   "metadata": {},
   "outputs": [],
   "source": [
    "# Train the model\n",
    "history = model.fit(\n",
    "    train_generator,\n",
    "    verbose = 1, \n",
    "    epochs=10, \n",
    "    validation_data=test_generator,\n",
    "    callbacks=[early_stopping]\n",
    "    )\n",
    "# Check if early stopping was triggered by checking the history\n",
    "print(\"Training stopped at epoch:\", len(history.history['loss']))"
   ]
  },
  {
   "cell_type": "code",
   "execution_count": null,
   "metadata": {},
   "outputs": [],
   "source": [
    "# save model\n",
    "model.save(\"model.h5\")\n",
    "\n",
    "# Evaluate the model on the test set\n",
    "loss, accuracy = model.evaluate(test_generator)\n",
    "print(f\"Test accuracy: {accuracy}\")\n",
    "\n"
   ]
  }
 ],
 "metadata": {
  "language_info": {
   "name": "python"
  }
 },
 "nbformat": 4,
 "nbformat_minor": 2
}
